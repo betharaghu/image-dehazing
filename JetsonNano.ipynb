{
 "cells": [
  {
   "cell_type": "code",
   "execution_count": 11,
   "metadata": {},
   "outputs": [
    {
     "name": "stdout",
     "output_type": "stream",
     "text": [
      "image_size: [256, 256, 3]\n",
      "input_tensor_name: input_1:0\n",
      "output_tensor_name: conv2d_50/Tanh:0\n"
     ]
    }
   ],
   "source": [
    "output_names = ['conv2d_50/Tanh']\n",
    "input_names = ['input_1']\n",
    "\n",
    "import tensorflow as tf\n",
    "\n",
    "\n",
    "def get_frozen_graph(graph_file):\n",
    "    \"\"\"Read Frozen Graph file from disk.\"\"\"\n",
    "    with tf.gfile.FastGFile(graph_file, \"rb\") as f:\n",
    "        graph_def = tf.GraphDef()\n",
    "        graph_def.ParseFromString(f.read())\n",
    "    return graph_def\n",
    "\n",
    "##Input your model here\n",
    "trt_graph = get_frozen_graph('trt_model/trt_graph.pb')\n",
    "\n",
    "# Create session and load graph\n",
    "tf_config = tf.ConfigProto()\n",
    "tf_config.gpu_options.allow_growth = True\n",
    "tf_sess = tf.Session(config=tf_config)\n",
    "tf.import_graph_def(trt_graph, name='')\n",
    "\n",
    "# Get graph input size\n",
    "for node in trt_graph.node:\n",
    "    if 'input_' in node.name:\n",
    "        size = node.attr['shape'].shape\n",
    "        image_size = [size.dim[i].size for i in range(1, 4)]\n",
    "        break\n",
    "print(\"image_size: {}\".format(image_size))\n",
    "\n",
    "\n",
    "# input and output tensor names.\n",
    "input_tensor_name = input_names[0] + \":0\"\n",
    "output_tensor_name = output_names[0] + \":0\"\n",
    "\n",
    "print(\"input_tensor_name: {}\\noutput_tensor_name: {}\".format(\n",
    "    input_tensor_name, output_tensor_name))\n",
    "\n",
    "output_tensor = tf_sess.graph.get_tensor_by_name(output_tensor_name)"
   ]
  },
  {
   "cell_type": "code",
   "execution_count": 12,
   "metadata": {},
   "outputs": [
    {
     "name": "stdout",
     "output_type": "stream",
     "text": [
      "['1434.png', '1363.png', '1302.png', '1333.png', '1307.png', '1368.png', '1425.png', '1395.png', '1316.png', '1432.png', '1394.png', '1366.png', '1341.png', '1420.png', '1305.png', '1329.png', '1409.png', '1386.png', '1442.png', '1365.png', '1410.png', '1372.png', '1424.png', '1370.png', '1314.png', '1389.png', '1433.png', '.ipynb_checkpoints', '1436.png', '1422.png', '1417.png', '1362.png', '1448.png', '1391.png', '1441.png', '1403.png', '1349.png', '1380.png', '1447.png', '1301.png', '1374.png', '1306.png', '1375.png', '1323.png', '1297.png', '1299.png', '1423.png', '1308.png', '1309.png', '1344.png', '1326.png', '1426.png', '1384.png', '1340.png', '1397.png', '1358.png', '1318.png', '1407.png', '1356.png', '1418.png', '1296.png', '1399.png', '1338.png', '1313.png', '1331.png', '1361.png', '1381.png', '1346.png', '1303.png', '1332.png', '1315.png', '1393.png', '1367.png', '1347.png', '1359.png', '1322.png', '1357.png', '1379.png', '1371.png', '1383.png', '1414.png', '1312.png', '1317.png', '1310.png', '1348.png', '1376.png', '1335.png', '1427.png', '1413.png', '1330.png', '1334.png', '1412.png', '1354.png', '1385.png', '1435.png', '1304.png', '1406.png', '1405.png', '1300.png', '1400.png', '1311.png', '1321.png', '1416.png', '1343.png', '1345.png', '1419.png', '1377.png', '1390.png', '1324.png', '1396.png', '1382.png', '1430.png', '1428.png', '1364.png', '1325.png', '1444.png', '1350.png', '1421.png', '1337.png', '1369.png', '1440.png', '1404.png', '1351.png', '1445.png', '1439.png', '1443.png', '1355.png', '1437.png', '1411.png', '1408.png', '1402.png', '1415.png', '1328.png', '1387.png', '1342.png', '1319.png', '1392.png', '1378.png', '1320.png', '1353.png', '1360.png', '1429.png', '1431.png', '1398.png', '1388.png', '1438.png', '1446.png', '1336.png', '1401.png', '1339.png', '1352.png', '1373.png', '1327.png', '1298.png']\n"
     ]
    }
   ],
   "source": [
    "from tensorflow.keras.preprocessing import image\n",
    "import os\n",
    "##Input your testing images directory here\n",
    "list_dir = os.listdir('./testingImages')\n",
    "print((list_dir))"
   ]
  },
  {
   "cell_type": "code",
   "execution_count": 13,
   "metadata": {},
   "outputs": [],
   "source": [
    "from tensorflow.keras.preprocessing import image\n",
    "import numpy as np\n",
    "def load_preprocess(path):\n",
    "    \"\"\"Preprocesses image for the model.\"\"\"\n",
    "    img = image.load_img(path, target_size = (256,256))\n",
    "    img1 = image.img_to_array(img)\n",
    "    img1 = np.expand_dims(img1, axis=0)\n",
    "    img1 = img1/127.5 - 1.\n",
    "    return img1"
   ]
  },
  {
   "cell_type": "code",
   "execution_count": null,
   "metadata": {},
   "outputs": [
    {
     "name": "stdout",
     "output_type": "stream",
     "text": [
      "testingImages/1434.png\n"
     ]
    }
   ],
   "source": [
    "from PIL import Image\n",
    "import time\n",
    "time_array = []\n",
    "for i in list_dir:\n",
    "    path = 'testingImages/{}'.format(i)\n",
    "    print(path)\n",
    "    img = load_preprocess(path)\n",
    "    feed_dict = {input_tensor_name:img}\n",
    "    start_time = time.time()\n",
    "    dehazed_image = tf_sess.run(output_tensor, feed_dict)\n",
    "    time_array.append(time.time() - start_time)\n",
    "    dehazed_image = dehazed_image*0.5 + 0.5\n",
    "    dehazed_image = np.reshape(dehazed_image, (256,256,3))\n",
    "    img = Image.fromarray((dehazed_image*255).astype(np.uint8))\n",
    "    ## Replace first argument with the directory you wish to save\n",
    "    img.save('output/{}'.format(i))"
   ]
  },
  {
   "cell_type": "code",
   "execution_count": 6,
   "metadata": {},
   "outputs": [
    {
     "data": {
      "text/plain": [
       "[]"
      ]
     },
     "execution_count": 6,
     "metadata": {},
     "output_type": "execute_result"
    }
   ],
   "source": [
    "time_array"
   ]
  },
  {
   "cell_type": "code",
   "execution_count": null,
   "metadata": {},
   "outputs": [],
   "source": []
  }
 ],
 "metadata": {
  "kernelspec": {
   "display_name": "Python 3",
   "language": "python",
   "name": "python3"
  },
  "language_info": {
   "codemirror_mode": {
    "name": "ipython",
    "version": 3
   },
   "file_extension": ".py",
   "mimetype": "text/x-python",
   "name": "python",
   "nbconvert_exporter": "python",
   "pygments_lexer": "ipython3",
   "version": "3.6.9"
  }
 },
 "nbformat": 4,
 "nbformat_minor": 4
}
